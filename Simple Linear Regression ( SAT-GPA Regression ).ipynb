{
 "cells": [
  {
   "cell_type": "markdown",
   "id": "025906f4",
   "metadata": {},
   "source": [
    "## Simple Linear Regression\n",
    "This notebook shows the implementation of a linear regression model using different approaches\n",
    "\n",
    "The case-study involves using SAT scores to predict university GPA "
   ]
  },
  {
   "cell_type": "markdown",
   "id": "6d344f22",
   "metadata": {},
   "source": [
    "#### Import relevant libraries "
   ]
  },
  {
   "cell_type": "code",
   "execution_count": 1,
   "id": "e38b8aed",
   "metadata": {},
   "outputs": [
    {
     "name": "stderr",
     "output_type": "stream",
     "text": [
      "/Users/orukotanoluwatobiloba/opt/anaconda3/lib/python3.9/site-packages/statsmodels/tsa/base/tsa_model.py:7: FutureWarning: pandas.Int64Index is deprecated and will be removed from pandas in a future version. Use pandas.Index with the appropriate dtype instead.\n",
      "  from pandas import (to_datetime, Int64Index, DatetimeIndex, Period,\n",
      "/Users/orukotanoluwatobiloba/opt/anaconda3/lib/python3.9/site-packages/statsmodels/tsa/base/tsa_model.py:7: FutureWarning: pandas.Float64Index is deprecated and will be removed from pandas in a future version. Use pandas.Index with the appropriate dtype instead.\n",
      "  from pandas import (to_datetime, Int64Index, DatetimeIndex, Period,\n"
     ]
    }
   ],
   "source": [
    "import pandas as pd \n",
    "import numpy as np\n",
    "import missingno as msno\n",
    "\n",
    "import matplotlib.pyplot as plt\n",
    "import seaborn as sns\n",
    "\n",
    "import statsmodels.api as sm\n",
    "from sklearn.model_selection import train_test_split\n",
    "from sklearn.linear_model import LinearRegression\n",
    "\n",
    "import warnings\n",
    "warnings.filterwarnings('ignore')\n",
    "sns.set()"
   ]
  },
  {
   "cell_type": "markdown",
   "id": "135f4ea6",
   "metadata": {},
   "source": [
    "#### Read the data into a pandas dataframe"
   ]
  },
  {
   "cell_type": "code",
   "execution_count": 2,
   "id": "92799b25",
   "metadata": {},
   "outputs": [],
   "source": [
    "df = pd.read_csv(\"SAT-GPA.csv\")"
   ]
  },
  {
   "cell_type": "markdown",
   "id": "f7790671",
   "metadata": {},
   "source": [
    "#### Examining the data"
   ]
  },
  {
   "cell_type": "code",
   "execution_count": 3,
   "id": "6bec933a",
   "metadata": {},
   "outputs": [
    {
     "data": {
      "text/html": [
       "<div>\n",
       "<style scoped>\n",
       "    .dataframe tbody tr th:only-of-type {\n",
       "        vertical-align: middle;\n",
       "    }\n",
       "\n",
       "    .dataframe tbody tr th {\n",
       "        vertical-align: top;\n",
       "    }\n",
       "\n",
       "    .dataframe thead th {\n",
       "        text-align: right;\n",
       "    }\n",
       "</style>\n",
       "<table border=\"1\" class=\"dataframe\">\n",
       "  <thead>\n",
       "    <tr style=\"text-align: right;\">\n",
       "      <th></th>\n",
       "      <th>SAT</th>\n",
       "      <th>GPA</th>\n",
       "    </tr>\n",
       "  </thead>\n",
       "  <tbody>\n",
       "    <tr>\n",
       "      <th>0</th>\n",
       "      <td>1714</td>\n",
       "      <td>2.40</td>\n",
       "    </tr>\n",
       "    <tr>\n",
       "      <th>1</th>\n",
       "      <td>1664</td>\n",
       "      <td>2.52</td>\n",
       "    </tr>\n",
       "    <tr>\n",
       "      <th>2</th>\n",
       "      <td>1760</td>\n",
       "      <td>2.54</td>\n",
       "    </tr>\n",
       "    <tr>\n",
       "      <th>3</th>\n",
       "      <td>1685</td>\n",
       "      <td>2.74</td>\n",
       "    </tr>\n",
       "    <tr>\n",
       "      <th>4</th>\n",
       "      <td>1693</td>\n",
       "      <td>2.83</td>\n",
       "    </tr>\n",
       "  </tbody>\n",
       "</table>\n",
       "</div>"
      ],
      "text/plain": [
       "    SAT   GPA\n",
       "0  1714  2.40\n",
       "1  1664  2.52\n",
       "2  1760  2.54\n",
       "3  1685  2.74\n",
       "4  1693  2.83"
      ]
     },
     "execution_count": 3,
     "metadata": {},
     "output_type": "execute_result"
    }
   ],
   "source": [
    "df.head()"
   ]
  },
  {
   "cell_type": "code",
   "execution_count": 4,
   "id": "25c39947",
   "metadata": {},
   "outputs": [
    {
     "name": "stdout",
     "output_type": "stream",
     "text": [
      "<class 'pandas.core.frame.DataFrame'>\n",
      "RangeIndex: 84 entries, 0 to 83\n",
      "Data columns (total 2 columns):\n",
      " #   Column  Non-Null Count  Dtype  \n",
      "---  ------  --------------  -----  \n",
      " 0   SAT     84 non-null     int64  \n",
      " 1   GPA     84 non-null     float64\n",
      "dtypes: float64(1), int64(1)\n",
      "memory usage: 1.4 KB\n"
     ]
    }
   ],
   "source": [
    "df.info()"
   ]
  },
  {
   "cell_type": "code",
   "execution_count": 5,
   "id": "a0a488bf",
   "metadata": {},
   "outputs": [
    {
     "data": {
      "text/plain": [
       "<AxesSubplot:>"
      ]
     },
     "execution_count": 5,
     "metadata": {},
     "output_type": "execute_result"
    },
    {
     "data": {
      "image/png": "[encoded data removed]",
      "text/plain": [
       "<Figure size 1800x720 with 2 Axes>"
      ]
     },
     "metadata": {},
     "output_type": "display_data"
    }
   ],
   "source": [
    "#Checking for missing values using visualization\n",
    "msno.matrix(df=df,\n",
    "            labels=True)"
   ]
  },
  {
   "cell_type": "code",
   "execution_count": 6,
   "id": "d5c28774",
   "metadata": {},
   "outputs": [
    {
     "data": {
      "text/html": [
       "<div>\n",
       "<style scoped>\n",
       "    .dataframe tbody tr th:only-of-type {\n",
       "        vertical-align: middle;\n",
       "    }\n",
       "\n",
       "    .dataframe tbody tr th {\n",
       "        vertical-align: top;\n",
       "    }\n",
       "\n",
       "    .dataframe thead th {\n",
       "        text-align: right;\n",
       "    }\n",
       "</style>\n",
       "<table border=\"1\" class=\"dataframe\">\n",
       "  <thead>\n",
       "    <tr style=\"text-align: right;\">\n",
       "      <th></th>\n",
       "      <th>SAT</th>\n",
       "      <th>GPA</th>\n",
       "    </tr>\n",
       "  </thead>\n",
       "  <tbody>\n",
       "    <tr>\n",
       "      <th>count</th>\n",
       "      <td>84.000000</td>\n",
       "      <td>84.000000</td>\n",
       "    </tr>\n",
       "    <tr>\n",
       "      <th>mean</th>\n",
       "      <td>1845.273810</td>\n",
       "      <td>3.330238</td>\n",
       "    </tr>\n",
       "    <tr>\n",
       "      <th>std</th>\n",
       "      <td>104.530661</td>\n",
       "      <td>0.271617</td>\n",
       "    </tr>\n",
       "    <tr>\n",
       "      <th>min</th>\n",
       "      <td>1634.000000</td>\n",
       "      <td>2.400000</td>\n",
       "    </tr>\n",
       "    <tr>\n",
       "      <th>25%</th>\n",
       "      <td>1772.000000</td>\n",
       "      <td>3.190000</td>\n",
       "    </tr>\n",
       "    <tr>\n",
       "      <th>50%</th>\n",
       "      <td>1846.000000</td>\n",
       "      <td>3.380000</td>\n",
       "    </tr>\n",
       "    <tr>\n",
       "      <th>75%</th>\n",
       "      <td>1934.000000</td>\n",
       "      <td>3.502500</td>\n",
       "    </tr>\n",
       "    <tr>\n",
       "      <th>max</th>\n",
       "      <td>2050.000000</td>\n",
       "      <td>3.810000</td>\n",
       "    </tr>\n",
       "  </tbody>\n",
       "</table>\n",
       "</div>"
      ],
      "text/plain": [
       "               SAT        GPA\n",
       "count    84.000000  84.000000\n",
       "mean   1845.273810   3.330238\n",
       "std     104.530661   0.271617\n",
       "min    1634.000000   2.400000\n",
       "25%    1772.000000   3.190000\n",
       "50%    1846.000000   3.380000\n",
       "75%    1934.000000   3.502500\n",
       "max    2050.000000   3.810000"
      ]
     },
     "execution_count": 6,
     "metadata": {},
     "output_type": "execute_result"
    }
   ],
   "source": [
    "df.describe(include='all')"
   ]
  },
  {
   "cell_type": "markdown",
   "id": "4f5627fe",
   "metadata": {},
   "source": [
    "#### Some data visualization "
   ]
  },
  {
   "cell_type": "code",
   "execution_count": 7,
   "id": "9d2d7f57",
   "metadata": {},
   "outputs": [
    {
     "data": {
      "text/plain": [
       "array([[<AxesSubplot:title={'center':'SAT'}>,\n",
       "        <AxesSubplot:title={'center':'GPA'}>]], dtype=object)"
      ]
     },
     "execution_count": 7,
     "metadata": {},
     "output_type": "execute_result"
    },
    {
     "data": {
      "image/png": "[encoded data removed]",
      "text/plain": [
       "<Figure size 1152x504 with 2 Axes>"
      ]
     },
     "metadata": {},
     "output_type": "display_data"
    }
   ],
   "source": [
    "df.hist(figsize=(16,7))"
   ]
  },
  {
   "cell_type": "code",
   "execution_count": 8,
   "id": "68621904",
   "metadata": {},
   "outputs": [
    {
     "data": {
      "text/plain": [
       "(0.041778706061156114, -1.0832176206045383)"
      ]
     },
     "execution_count": 8,
     "metadata": {},
     "output_type": "execute_result"
    }
   ],
   "source": [
    "from scipy import stats\n",
    "stats.skew(df['SAT']), stats.skew(df['GPA'])"
   ]
  },
  {
   "cell_type": "markdown",
   "id": "53a71658",
   "metadata": {},
   "source": [
    "##### From the histograms above\n",
    "- The SAT scores are approximately symmetric\n",
    "- The GPAs are somewhat skewed (negatively)\n",
    "- There are no significant outliers"
   ]
  },
  {
   "cell_type": "code",
   "execution_count": 9,
   "id": "c4d7940f",
   "metadata": {
    "scrolled": true
   },
   "outputs": [
    {
     "data": {
      "text/plain": [
       "Text(0.5, 1.0, 'SAT Scores versus GPA')"
      ]
     },
     "execution_count": 9,
     "metadata": {},
     "output_type": "execute_result"
    },
    {
     "data": {
      "image/png": "[encoded data removed]",
      "text/plain": [
       "<Figure size 1008x288 with 1 Axes>"
      ]
     },
     "metadata": {},
     "output_type": "display_data"
    }
   ],
   "source": [
    "plt.figure(figsize=(14,4))\n",
    "plt.scatter(x=df['SAT'],\n",
    "            y=df['GPA'])\n",
    "plt.title(\"SAT Scores versus GPA\",\n",
    "          fontsize=14)"
   ]
  },
  {
   "cell_type": "markdown",
   "id": "f7d7556e",
   "metadata": {},
   "source": [
    "##### From the scatter-plot above \n",
    "- SAT and GPA have a linear relationship\n",
    "###### The assumption of Linearity is met by the data. \n",
    "[Other assumptions of linear Regression](https://www.k2analytics.co.in/assumptions-of-linear-regressions-part-2/)"
   ]
  },
  {
   "cell_type": "markdown",
   "id": "db443cee",
   "metadata": {},
   "source": [
    "The data is clean and we can move to preprocessing.                                                                    \n",
    "Since there is just one predictor (x) variable, standardization won't be of significant use."
   ]
  },
  {
   "cell_type": "markdown",
   "id": "6db8739d",
   "metadata": {},
   "source": [
    "#### Splitting the data into train and test sets"
   ]
  },
  {
   "cell_type": "code",
   "execution_count": 10,
   "id": "2fe88ef9",
   "metadata": {},
   "outputs": [],
   "source": [
    "X_train, X_test, y_train, y_test = train_test_split(df['SAT'],\n",
    "                                                    df['GPA'],\n",
    "                                                    test_size=0.3,\n",
    "                                                    random_state=42)"
   ]
  },
  {
   "cell_type": "markdown",
   "id": "8621a9ce",
   "metadata": {},
   "source": [
    "                                                                                   "
   ]
  },
  {
   "cell_type": "markdown",
   "id": "c86b9b68",
   "metadata": {},
   "source": [
    "### The simple linear regression\n",
    "\n",
    "The simple linear regression is in the form\n",
    "\n",
    "$ Y_{i} = \\beta_{0} + \\beta_{1}x_{i} + e_{i}$                                                                                 \n",
    "where; \n",
    "\n",
    "$Y_{i}$  = dependent/predicted variable\n",
    "\n",
    "$\\beta_{0}$  = bias/intercept on the y-axis \n",
    "\n",
    "$\\beta_{1}$  = slope/coefficent of independent variable\n",
    "\n",
    "$x_{i}$  = independent variable\n",
    "\n",
    "$e_{i}$  = error-term\n",
    "\n",
    "The slope and bias of the regression can be calculated using the formulas below.\n",
    "\n",
    "$\\beta_{1} = \\frac{\\sum_{i=1}^n(x_i-\\bar{x})(y_i-\\bar{y})}{\\sum_{i=1}^n(x_i-\\bar{x})^2}$\n",
    "\n",
    "$\\beta_{0} = \\bar{y}-\\beta_{1}\\bar{x}$\n",
    "\n",
    "where $\\bar{x}$ and $\\bar{y}$ are the mean values of the independent and dependent variables respectively."
   ]
  },
  {
   "cell_type": "markdown",
   "id": "0b984c0d",
   "metadata": {},
   "source": [
    "## Building the model manually\n",
    "###### (without external libraries)\n",
    "\n",
    "While creating the function below, I noticed that the function can be put in a Linear model class\n",
    "\n",
    "Check this repo containing this notebook for the refactored code"
   ]
  },
  {
   "cell_type": "code",
   "execution_count": 11,
   "id": "41ec931b",
   "metadata": {},
   "outputs": [],
   "source": [
    "def list_validated(list_1,list_2)->bool:\n",
    "    \"\"\"\n",
    "    returns true if the two list elements are numeric and are of equal length\n",
    "    \n",
    "    :param list_1,list_2: list objects\n",
    "    \n",
    "    \"\"\"\n",
    "    lists_sum = list_1+list_2\n",
    "    all_int = all(isinstance(x, (int,float)) for x in lists_sum)\n",
    "    equal_length = len(list_1)==len(list_2)\n",
    "\n",
    "    return (all_int & equal_length)\n",
    "\n",
    "   "
   ]
  },
  {
   "cell_type": "code",
   "execution_count": 12,
   "id": "5c33b11d",
   "metadata": {},
   "outputs": [],
   "source": [
    "def timing_decorator(func):\n",
    "    \"\"\"\n",
    "    returns a wrapper function\n",
    "    \n",
    "    :param func: function object,function to be decorated\n",
    "    \"\"\"\n",
    "    import time\n",
    "    def wrapping_func(*args, **kwargs):\n",
    "        start_time = time.time()\n",
    "        temp =  func(*args, **kwargs)\n",
    "        print(\"--- %s seconds ---\" % (time.time() - start_time))\n",
    "        return temp\n",
    "    return wrapping_func\n"
   ]
  },
  {
   "cell_type": "code",
   "execution_count": 13,
   "id": "40e9d35c",
   "metadata": {},
   "outputs": [],
   "source": [
    "@timing_decorator\n",
    "def linear_model_1(x_train, y_train)->list:\n",
    "    \"\"\"\n",
    "    returns list object containing regression slope and bias \n",
    "    \n",
    "    :param x_train: list object, independent variables of length j\n",
    "    :param y_train: list object, dependent variables of length j\n",
    "     \n",
    "    \"\"\"\n",
    "    x, y = list(x_train), list(y_train)\n",
    "    #validate x and y\n",
    "    if list_validated(x_train, y_train):\n",
    "        import statistics\n",
    "        x_bar = statistics.mean(x)\n",
    "        y_bar = statistics.mean(y)\n",
    "        \n",
    "        slope_num = 0                         \n",
    "        slope_den = 0                        \n",
    "        \n",
    "        for i in range(len(x)):\n",
    "            a = x[i]-x_bar\n",
    "            slope_num += a*(y[i]-y_bar)\n",
    "            slope_den += a**2\n",
    "            \n",
    "        slope = slope_num/slope_den\n",
    "        bias = y_bar - (slope*x_bar)\n",
    "        return [bias,slope]\n",
    "    return(\"inputs do not meet the criteria\")"
   ]
  },
  {
   "cell_type": "code",
   "execution_count": 14,
   "id": "9f684b14",
   "metadata": {},
   "outputs": [
    {
     "name": "stdout",
     "output_type": "stream",
     "text": [
      "--- 0.04993891716003418 seconds ---\n"
     ]
    },
    {
     "data": {
      "text/plain": [
       "[0.44357460445431895, 0.0015737740293184433]"
      ]
     },
     "execution_count": 14,
     "metadata": {},
     "output_type": "execute_result"
    }
   ],
   "source": [
    "SAT_GPA_model = linear_model_1(X_train,y_train)\n",
    "SAT_GPA_model"
   ]
  },
  {
   "cell_type": "markdown",
   "id": "f863de64",
   "metadata": {},
   "source": [
    "### Building the model using numpy"
   ]
  },
  {
   "cell_type": "code",
   "execution_count": 15,
   "id": "8b70ea9b",
   "metadata": {},
   "outputs": [
    {
     "name": "stdout",
     "output_type": "stream",
     "text": [
      "Reshaping x_train array...\n",
      "x_train reshaped!\n",
      "Reshaping observations array...\n",
      "y_train reshaped!\n",
      "--- 0.0005431175231933594 seconds ---\n"
     ]
    },
    {
     "data": {
      "text/plain": [
       "[0.44357460445431807, 0.0015737740293184437]"
      ]
     },
     "execution_count": 15,
     "metadata": {},
     "output_type": "execute_result"
    }
   ],
   "source": [
    "@timing_decorator\n",
    "def linear_model_2(x_train,y_train):\n",
    "    \"\"\"\n",
    "    returns numpy n-dimensional array object containing regression slope and bias \n",
    "    \n",
    "    :param x_train: list object, independent variables of length j\n",
    "    :param y_train: list object, dependent variables of length j\n",
    "     \n",
    "    \"\"\"\n",
    "    \n",
    "    if len(x_train.shape) < 2:\n",
    "        print(\"Reshaping x_train array...\")\n",
    "        x_train = x_train.values.reshape(x_train.shape[0], 1)\n",
    "        print(\"x_train reshaped!\")\n",
    "\n",
    "    if len(y_train.shape) < 2:\n",
    "        print(\"Reshaping observations array...\")\n",
    "        y_train = y_train.values.reshape(y_train.shape[0], 1)\n",
    "        print(\"y_train reshaped!\")\n",
    "\n",
    "    x_bar = np.mean(x_train)\n",
    "    y_bar = np.mean(y_train)\n",
    "    \n",
    "    slope_num = np.sum((x_train-x_bar)*(y_train-y_bar))\n",
    "    slope_den = np.sum((x_train-x_bar)**2)\n",
    "    \n",
    "    slope = slope_num/slope_den\n",
    "    bias = y_bar - (slope*x_bar)\n",
    "    \n",
    "    return [bias,slope]\n",
    "\n",
    "SAT_GPA_model_2 = linear_model_2(X_train,y_train)\n",
    "SAT_GPA_model_2"
   ]
  },
  {
   "cell_type": "markdown",
   "id": "a53193ab",
   "metadata": {},
   "source": [
    "###### $!$ $!$ $!$ Using numpy arrays made our execution time 100 times faster $!$ $!$ $!$"
   ]
  },
  {
   "cell_type": "markdown",
   "id": "25348aff",
   "metadata": {},
   "source": [
    "### Building the model using statsmodels"
   ]
  },
  {
   "cell_type": "code",
   "execution_count": 16,
   "id": "727b16d8",
   "metadata": {},
   "outputs": [],
   "source": [
    "x = sm.add_constant(X_train)\n",
    "sm_sat_gpa_model = sm.OLS(y_train,x).fit()\n",
    "bias = sm_sat_gpa_model.params[0]\n",
    "slope = sm_sat_gpa_model.params[1]"
   ]
  },
  {
   "cell_type": "code",
   "execution_count": 17,
   "id": "a048c8c6",
   "metadata": {},
   "outputs": [
    {
     "name": "stdout",
     "output_type": "stream",
     "text": [
      "                            OLS Regression Results                            \n",
      "==============================================================================\n",
      "Dep. Variable:                    GPA   R-squared:                       0.400\n",
      "Model:                            OLS   Adj. R-squared:                  0.389\n",
      "Method:                 Least Squares   F-statistic:                     37.32\n",
      "Date:                Mon, 16 May 2022   Prob (F-statistic):           1.01e-07\n",
      "Time:                        20:39:48   Log-Likelihood:                 9.6391\n",
      "No. Observations:                  58   AIC:                            -15.28\n",
      "Df Residuals:                      56   BIC:                            -11.16\n",
      "Df Model:                           1                                         \n",
      "Covariance Type:            nonrobust                                         \n",
      "==============================================================================\n",
      "                 coef    std err          t      P>|t|      [0.025      0.975]\n",
      "------------------------------------------------------------------------------\n",
      "const          0.4436      0.475      0.933      0.355      -0.508       1.396\n",
      "SAT            0.0016      0.000      6.109      0.000       0.001       0.002\n",
      "==============================================================================\n",
      "Omnibus:                        7.724   Durbin-Watson:                   2.233\n",
      "Prob(Omnibus):                  0.021   Jarque-Bera (JB):                7.876\n",
      "Skew:                          -0.589   Prob(JB):                       0.0195\n",
      "Kurtosis:                       4.367   Cond. No.                     3.20e+04\n",
      "==============================================================================\n",
      "\n",
      "Notes:\n",
      "[1] Standard Errors assume that the covariance matrix of the errors is correctly specified.\n",
      "[2] The condition number is large, 3.2e+04. This might indicate that there are\n",
      "strong multicollinearity or other numerical problems.\n"
     ]
    }
   ],
   "source": [
    "print(sm_sat_gpa_model.summary())"
   ]
  },
  {
   "cell_type": "markdown",
   "id": "7a57aa08",
   "metadata": {},
   "source": [
    "### Building the model using sklearn"
   ]
  },
  {
   "cell_type": "code",
   "execution_count": 18,
   "id": "63b09e1d",
   "metadata": {},
   "outputs": [
    {
     "data": {
      "text/plain": [
       "(array([0.4435746]), array([0.00157377]))"
      ]
     },
     "execution_count": 18,
     "metadata": {},
     "output_type": "execute_result"
    }
   ],
   "source": [
    "y_train = y_train.values.reshape(-1, 1)\n",
    "X_train = X_train.values.reshape(-1, 1)\n",
    "sk_sat_gpa_model = LinearRegression()\n",
    "sk_sat_gpa_model = sk_sat_gpa_model.fit(X_train, y_train)\n",
    "\n",
    "bias = sk_sat_gpa_model.intercept_\n",
    "slope = sk_sat_gpa_model.coef_[0]\n",
    "bias,slope"
   ]
  },
  {
   "cell_type": "markdown",
   "id": "3437534b",
   "metadata": {},
   "source": [
    "##### Lets see how well how model fits the datapoints\n",
    "The result from three models give us the same values for our bias (0.4435746) and slope (0.001573774)"
   ]
  },
  {
   "cell_type": "code",
   "execution_count": 19,
   "id": "15262cb0",
   "metadata": {},
   "outputs": [
    {
     "data": {
      "text/plain": [
       "Text(0.5, 1.0, 'Chart showing scatter-plot and line of best fit')"
      ]
     },
     "execution_count": 19,
     "metadata": {},
     "output_type": "execute_result"
    },
    {
     "data": {
      "image/png": "[encoded data removed]",
      "text/plain": [
       "<Figure size 1008x288 with 1 Axes>"
      ]
     },
     "metadata": {},
     "output_type": "display_data"
    }
   ],
   "source": [
    "bias = 0.4435746\n",
    "slope = 0.001573774\n",
    "fig_scat, ax_scat = plt.subplots(1,1, figsize=(14,4))\n",
    "\n",
    "best_fit_line = bias + slope * X_train\n",
    "\n",
    "ax_scat.scatter(X_train, y_train, label='Training Data')\n",
    "ax_scat.plot(X_train, best_fit_line, ls='-', label='Best Fit Line')\n",
    "\n",
    "ax_scat.set_xlabel(r'$x_{train}$')\n",
    "ax_scat.set_ylabel(r'$y$')\n",
    "ax_scat.set_title('Chart showing scatter-plot and line of best fit')"
   ]
  }
 ],
 "metadata": {
  "kernelspec": {
   "display_name": "Python 3 (ipykernel)",
   "language": "python",
   "name": "python3"
  },
  "language_info": {
   "codemirror_mode": {
    "name": "ipython",
    "version": 3
   },
   "file_extension": ".py",
   "mimetype": "text/x-python",
   "name": "python",
   "nbconvert_exporter": "python",
   "pygments_lexer": "ipython3",
   "version": "3.9.7"
  }
 },
 "nbformat": 4,
 "nbformat_minor": 5
}
